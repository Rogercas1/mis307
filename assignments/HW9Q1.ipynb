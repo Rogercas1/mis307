{
 "cells": [
  {
   "cell_type": "markdown",
   "metadata": {
    "colab_type": "text",
    "id": "RmAmzi40WXM1"
   },
   "source": [
    "\n",
    "# HW9-Q!1 MIS307\n",
    "\n",
    "Author: Dr. T. Smith (timsmith@iastate.edu) \n",
    "\n",
    "Complete all missing code within the Task section (and all subsections). \n",
    "\n"
   ]
  },
  {
   "cell_type": "markdown",
   "metadata": {
    "colab_type": "text",
    "id": "3ZzwWXI185ra"
   },
   "source": [
    "## Import Libraries \n"
   ]
  },
  {
   "cell_type": "code",
   "execution_count": null,
   "metadata": {
    "colab": {},
    "colab_type": "code",
    "id": "3UBCDKDbWXM2"
   },
   "outputs": [],
   "source": [
    "# add any required imports here"
   ]
  },
  {
   "cell_type": "markdown",
   "metadata": {
    "colab_type": "text",
    "id": "B3SC_l3HCaGw"
   },
   "source": [
    "## TASK: Create Python code to accomplish the following data loading and cleaning tasks\n"
   ]
  },
  {
   "cell_type": "markdown",
   "metadata": {
    "colab_type": "text",
    "id": "PEbclzaP_M8u"
   },
   "source": [
    "### Load data directly from class GitHub repo"
   ]
  },
  {
   "cell_type": "code",
   "execution_count": null,
   "metadata": {
    "colab": {},
    "colab_type": "code",
    "id": "hokOAwkQ7u7n"
   },
   "outputs": [],
   "source": [
    "# add code here to load the hw9q1.csv from GitHub repo into a data frame calls mower_df"
   ]
  },
  {
   "cell_type": "markdown",
   "metadata": {
    "colab_type": "text",
    "id": "QpwWRyLzBVSY"
   },
   "source": [
    "### Clean the current column names\n",
    "\n"
   ]
  },
  {
   "cell_type": "code",
   "execution_count": null,
   "metadata": {
    "colab": {},
    "colab_type": "code",
    "id": "fUrVNUZIBRuL"
   },
   "outputs": [],
   "source": [
    "# Remove any leadeing and trailing blank space characters found in the column and replace any remaining \n",
    "# spaces with underscore\n"
   ]
  },
  {
   "cell_type": "markdown",
   "metadata": {
    "colab_type": "text",
    "id": "TXB95uXw_VrD"
   },
   "source": [
    "### Display the first 3 rows of the dataframe"
   ]
  },
  {
   "cell_type": "code",
   "execution_count": null,
   "metadata": {
    "colab": {},
    "colab_type": "code",
    "id": "f1s5sRbk_hk-"
   },
   "outputs": [],
   "source": [
    "# insert code "
   ]
  },
  {
   "cell_type": "markdown",
   "metadata": {
    "colab_type": "text",
    "id": "ZbD-gpSg_k0D"
   },
   "source": [
    "### Display all data found in column 1\n",
    "\n"
   ]
  },
  {
   "cell_type": "code",
   "execution_count": null,
   "metadata": {
    "colab": {},
    "colab_type": "code",
    "id": "FMUptWkA_p8V"
   },
   "outputs": [],
   "source": [
    "# insert code"
   ]
  },
  {
   "cell_type": "markdown",
   "metadata": {
    "colab_type": "text",
    "id": "-OEPdhVz_smW"
   },
   "source": [
    "### Display all data found in column 2"
   ]
  },
  {
   "cell_type": "code",
   "execution_count": null,
   "metadata": {
    "colab": {},
    "colab_type": "code",
    "id": "OVr4Y8x-_xGK"
   },
   "outputs": [],
   "source": [
    "# insert code"
   ]
  },
  {
   "cell_type": "markdown",
   "metadata": {
    "colab_type": "text",
    "id": "AxX9Ct78Bx29"
   },
   "source": [
    "### Summarize the data found in the first column "
   ]
  },
  {
   "cell_type": "code",
   "execution_count": null,
   "metadata": {
    "colab": {},
    "colab_type": "code",
    "id": "6NcKzwR4Bv8d"
   },
   "outputs": [],
   "source": [
    "# Summarize using at least the following measures:  Mean, Median, Max, Min, 25th quantile, 50% quantile, and 75th quantile.\n",
    "\n",
    "# insert code here"
   ]
  },
  {
   "cell_type": "markdown",
   "metadata": {
    "colab_type": "text",
    "id": "jt4nT07JC3i9"
   },
   "source": [
    "### Summarize the data found in the second column"
   ]
  },
  {
   "cell_type": "markdown",
   "metadata": {
    "colab_type": "text",
    "id": "pD2-9pdvDS9e"
   },
   "source": []
  },
  {
   "cell_type": "code",
   "execution_count": null,
   "metadata": {
    "colab": {},
    "colab_type": "code",
    "id": "BHnUvRuzC8qr"
   },
   "outputs": [],
   "source": [
    "# Summarize using at least the following measures:  Mean, Median, Max, Min, 25th quantile, 50% quantile, and 75th quantile.\n",
    "\n",
    "# insert code here"
   ]
  },
  {
   "cell_type": "markdown",
   "metadata": {
    "colab_type": "text",
    "id": "zLuSaN4dpr8n"
   },
   "source": [
    "## Create scatter plot of the data\n"
   ]
  },
  {
   "cell_type": "markdown",
   "metadata": {
    "colab_type": "text",
    "id": "CgPW1qoSAt7C"
   },
   "source": [
    "**NOTE: You do not need to edit any of the code below. If you've correctly complete the required code above, the following code will work correctly.**"
   ]
  },
  {
   "cell_type": "code",
   "execution_count": 1,
   "metadata": {
    "colab": {
     "base_uri": "https://localhost:8080/",
     "height": 662
    },
    "colab_type": "code",
    "id": "uJ1M9hvipvuA",
    "outputId": "1a9cfbfe-9759-4951-a186-373ad3e8d1b0"
   },
   "outputs": [],
   "source": [
    "# create scatter plot of data (income by lot_size)\n"
   ]
  }
 ],
 "metadata": {
  "colab": {
   "collapsed_sections": [
    "3ZzwWXI185ra",
    "zLuSaN4dpr8n"
   ],
   "include_colab_link": true,
   "name": "Copy of Assignment1_Q1.ipynb",
   "provenance": []
  },
  "kernelspec": {
   "display_name": "Python 3 (ipykernel)",
   "language": "python",
   "name": "python3"
  },
  "language_info": {
   "codemirror_mode": {
    "name": "ipython",
    "version": 3
   },
   "file_extension": ".py",
   "mimetype": "text/x-python",
   "name": "python",
   "nbconvert_exporter": "python",
   "pygments_lexer": "ipython3",
   "version": "3.9.12"
  }
 },
 "nbformat": 4,
 "nbformat_minor": 4
}
