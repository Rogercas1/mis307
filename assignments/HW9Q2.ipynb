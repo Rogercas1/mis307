{
 "cells": [
  {
   "cell_type": "markdown",
   "metadata": {
    "tags": []
   },
   "source": [
    "\n",
    "# HW9-Q2 MIS307\n",
    "\n",
    "Author: Dr. T. Smith (timsmith@iastate.edu) \n",
    "\n",
    "\n"
   ]
  },
  {
   "cell_type": "markdown",
   "metadata": {},
   "source": [
    "Complete all missing code within the Task section (and all subsections). \n",
    "\n",
    "Using the WestRoxbury.csv data file located in the class repository (use pandas to load the file directly from the repo), create a report (add code and markdown within this notebook) on the data in the first six columns of this dataset.\n",
    "\n",
    "Your report must include the following:\n",
    "\n",
    "* Calculate and display the max, min, mean, median, standard deviation for each of the six variables. \n",
    "\n",
    "* Create a boxplot for each of the six variables. Display these in one figure (multiple subplots)\n",
    "\n",
    "* Create a histogram for each of the six variables. Display these in one figure (multiple subplots)\n",
    "\n",
    "\n",
    "* In you own words summarize your findings/observations.\n",
    "\n",
    "Submit your notebook to Canvas.\n",
    "\n",
    "\n",
    "**2 POINT BONUS: * Create a correlation matrix for the six variables and add comments about what you see.**\n"
   ]
  }
 ],
 "metadata": {
  "kernelspec": {
   "display_name": "Python 3 (ipykernel)",
   "language": "python",
   "name": "python3"
  },
  "language_info": {
   "codemirror_mode": {
    "name": "ipython",
    "version": 3
   },
   "file_extension": ".py",
   "mimetype": "text/x-python",
   "name": "python",
   "nbconvert_exporter": "python",
   "pygments_lexer": "ipython3",
   "version": "3.9.12"
  }
 },
 "nbformat": 4,
 "nbformat_minor": 4
}
