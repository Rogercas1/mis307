{
 "cells": [
  {
   "cell_type": "markdown",
   "metadata": {},
   "source": [
    "[![Binder](https://mybinder.org/badge_logo.svg)](https://mybinder.org/v2/gh/prof-tcsmith/mis307.git/HEAD?labpath=notebooks%2Fpandas_01.ipynb)\n",
    "\n",
    "<a href=\"https://colab.research.google.com/github/prof-tcsmith/mis307/blob/master/notebooks/pandas_01.ipynb\" target=\"_parent\"><img src=\"https://colab.research.google.com/assets/colab-badge.svg\" alt=\"Open In Colab\"/></a>\n"
   ]
  },
  {
   "cell_type": "markdown",
   "metadata": {},
   "source": [
    "# Pandas\n",
    "\n",
    "The Pandas library is a python module/library that provides data structures and data analysis tools.\n",
    "\n",
    "Pandas is used to load, organzie and analyze data from different sources. It can also provide database like functions including inner, outer, and cross joins.\n",
    "\n",
    "Pandas is a productive tool for data wrangling, munging, transforming and modeling. \n",
    "\n",
    "From the Pandas documentation...\n",
    ">Pandas is a Python package providing fast, flexible, and expressive data structures designed to make working with “relational” or “labeled” data both easy and intuitive. It aims to be the fundamental high-level building block for doing practical, real world data analysis in Python. Additionally, it has the broader goal of becoming the most powerful and flexible open source data analysis / manipulation tool available in any language. It is already well on its way toward this goal.\n",
    "\n",
    "Pandas is built on NumPy, and for many purposes, provides a more productive environment for managing and analyzing tabular data than numpy. \n",
    "\n",
    "> NOTE: NumPy is a highly efficient and fully featured library that handles vector data - and is quite useful when conducting analysis involving concepts from linear algrabra (https://www.bogotobogo.com/python/python_numpy_matrix_tutorial.php) and other mathematical analysis.\n",
    "\n",
    "Pandas is a part of the PyData project. The PyData Development Team is a collection of developers focused on the improvement of Python’s data libraries. The core team that coordinates development can be found on Github. \n",
    "\n",
    "https://github.com/pydata\n"
   ]
  },
  {
   "cell_type": "markdown",
   "metadata": {},
   "source": [
    "## The Two Pandas Data Types\n",
    "\n",
    "There are two datatypes in Pandas: Series and DataFrame (there used to be a third called 'Panel' (which was a collection of dataframes), but this was rarely used, and is abandoned and not longer maintained in Pandas)\n",
    "\n",
    "* A series is a one dimensional (homogeneously-typed) array.\n",
    "* A DataFrame is a two dimensional structure of heterogeneously-types columns.  "
   ]
  },
  {
   "cell_type": "markdown",
   "metadata": {
    "jp-MarkdownHeadingCollapsed": true,
    "tags": []
   },
   "source": [
    "## Learning Goals\n",
    "\n",
    "* Understand DataFrames and Series objects\n",
    "* Create Series and Dataframe objects\n",
    "* load csv data into DataFrames\n",
    "* Extract data \n",
    "* Update data\n",
    "* Clean data\n",
    "* plot/graph data\n",
    "* statistical summaries of data in dataframes."
   ]
  }
 ],
 "metadata": {
  "anaconda-cloud": {},
  "kernelspec": {
   "display_name": "Python 3 (ipykernel)",
   "language": "python",
   "name": "python3"
  },
  "language_info": {
   "codemirror_mode": {
    "name": "ipython",
    "version": 3
   },
   "file_extension": ".py",
   "mimetype": "text/x-python",
   "name": "python",
   "nbconvert_exporter": "python",
   "pygments_lexer": "ipython3",
   "version": "3.9.12"
  }
 },
 "nbformat": 4,
 "nbformat_minor": 4
}
