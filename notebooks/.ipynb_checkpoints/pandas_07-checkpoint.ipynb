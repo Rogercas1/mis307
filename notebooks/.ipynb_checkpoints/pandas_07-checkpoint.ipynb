{
 "cells": [
  {
   "cell_type": "markdown",
   "metadata": {
    "colab_type": "text",
    "id": "view-in-github"
   },
   "source": [
    "[![Binder](https://mybinder.org/badge_logo.svg)](https://mybinder.org/v2/gh/prof-tcsmith/mis307.git/HEAD?labpath=notebooks%2Fpandas_07.ipynb)\n",
    "\n",
    "<a href=\"https://colab.research.google.com/github/prof-tcsmith/mis307/blob/master/notebooks/pandas_07.ipynb\" target=\"_parent\"><img src=\"https://colab.research.google.com/assets/colab-badge.svg\" alt=\"Open In Colab\"/></a>\n"
   ]
  },
  {
   "cell_type": "markdown",
   "metadata": {
    "colab_type": "text",
    "id": "26I8J53qY8kv"
   },
   "source": [
    "# Data Visualization\n",
    "\n",
    "In this notebook, we demonstrate how to create a number of common plots using Python. \n",
    "\n",
    "\n",
    "Pandas provides a number of basic plotting capabilities. Matplotlib however gives you more control over details of the visualisation. The Pandas plot methods return an axes object, which can also be used to modify the visualisation using basic matplotlib commands.\n",
    "\n"
   ]
  },
  {
   "cell_type": "markdown",
   "metadata": {
    "colab_type": "text",
    "id": "ioj_B9c_dcyr"
   },
   "source": [
    "# 3.1 Import required packages\n",
    "\n",
    "There are various plotting packages available for Python, but matplotlib is the oldest and most widely used. Seaborn is a library the builds \"on-top of\" matplotlib to create certain plots more easily (and, can often look more visually appealing)."
   ]
  },
  {
   "cell_type": "code",
   "execution_count": null,
   "metadata": {
    "colab": {},
    "colab_type": "code",
    "id": "JIJDc517Y8kw"
   },
   "outputs": [],
   "source": [
    "%matplotlib inline\n",
    "import os\n",
    "import calendar\n",
    "from pathlib import Path\n",
    "import numpy as np\n",
    "import networkx as nx\n",
    "import pandas as pd\n",
    "#from pandas.plotting import scatter_matrix, parallel_coordinates\n",
    "import seaborn as sns\n",
    "from sklearn import preprocessing\n",
    "import matplotlib.pylab as plt\n"
   ]
  },
  {
   "cell_type": "markdown",
   "metadata": {
    "colab_type": "text",
    "id": "UUhWzfinY8kz"
   },
   "source": [
    "# 3.2 Load Example Data\n",
    "\n",
    "## Boston Housing Market Data\n",
    "\n",
    "Let's look a data set on the Boston housing market:\n"
   ]
  },
  {
   "cell_type": "markdown",
   "metadata": {
    "colab_type": "text",
    "id": "59N6vPkNY8k0",
    "tags": []
   },
   "source": [
    "### Table 3.1 - Data Dictionary\n",
    "\n",
    "![](https://raw.githubusercontent.com/prof-tcsmith/mis307/master/notebooks/images/BostonData1.png)"
   ]
  },
  {
   "cell_type": "markdown",
   "metadata": {
    "colab_type": "text",
    "id": "qn0RHU9oY8k0"
   },
   "source": [
    "### Table 3.2a - First 10 records of imported data"
   ]
  },
  {
   "cell_type": "code",
   "execution_count": null,
   "metadata": {
    "colab": {
     "base_uri": "https://localhost:8080/",
     "height": 419
    },
    "colab_type": "code",
    "id": "AyfOtoXfY8k1",
    "outputId": "fc3ede94-3f40-4a91-f861-571872e2e808",
    "tags": []
   },
   "outputs": [],
   "source": [
    "\n",
    "housing_df = pd.read_csv(\"https://raw.githubusercontent.com/prof-tcsmith/mis307/master/data/BostonHousing.csv\")\n",
    "housing_df"
   ]
  },
  {
   "cell_type": "markdown",
   "metadata": {
    "colab_type": "text",
    "id": "aKYMHrwgY8k4"
   },
   "source": [
    "### Table 3.2b - First 10 rows with renamed column (CAT. MDEV -> CAT_MEDV)"
   ]
  },
  {
   "cell_type": "code",
   "execution_count": null,
   "metadata": {
    "colab": {
     "base_uri": "https://localhost:8080/",
     "height": 359
    },
    "colab_type": "code",
    "id": "93xxAYNbY8k4",
    "outputId": "f796268a-744c-4874-c954-24ca9baad97a",
    "tags": []
   },
   "outputs": [],
   "source": [
    "# rename CAT. MEDV column for easier data handling\n",
    "housing_df = housing_df.rename(columns={'CAT. MEDV': 'CAT_MEDV'})\n",
    "housing_df.head(10)"
   ]
  },
  {
   "cell_type": "markdown",
   "metadata": {
    "colab_type": "text",
    "id": "ouO5IeNqY8k6"
   },
   "source": [
    "## Amtrak data\n",
    "\n",
    "Ridership (average number of riders in 000's) per month between January 1991 and March 2004. "
   ]
  },
  {
   "cell_type": "code",
   "execution_count": null,
   "metadata": {
    "colab": {
     "base_uri": "https://localhost:8080/",
     "height": 419
    },
    "colab_type": "code",
    "id": "6aIMGC0qY8k7",
    "outputId": "5944687f-a0a8-4d6f-95df-c68dc0f15128"
   },
   "outputs": [],
   "source": [
    "# Load the Amtrak data \n",
    "Amtrak_df = pd.read_csv(\"https://raw.githubusercontent.com/prof-tcsmith/mis307/master/data/Amtrak.csv\")\n",
    "Amtrak_df"
   ]
  },
  {
   "cell_type": "markdown",
   "metadata": {
    "colab_type": "text",
    "id": "ojRu0Rr8Y8k9"
   },
   "source": [
    "\n",
    "Convert Amtrak data to be suitable for time series analysis"
   ]
  },
  {
   "cell_type": "code",
   "execution_count": null,
   "metadata": {
    "colab": {
     "base_uri": "https://localhost:8080/",
     "height": 238
    },
    "colab_type": "code",
    "id": "_UWJiSfdY8k9",
    "outputId": "e3a731ef-a3cf-4471-8f70-1ee494d135ab"
   },
   "outputs": [],
   "source": [
    "#Amtrak_df = pd.read_csv('Amtrak.csv', squeeze=True)\n",
    "Amtrak_df['Date'] = pd.to_datetime(Amtrak_df.Month, format='%d/%m/%Y')\n",
    "ridership_ts = pd.Series(Amtrak_df.Ridership.values, index=Amtrak_df.Date)\n",
    "ridership_ts"
   ]
  },
  {
   "cell_type": "markdown",
   "metadata": {
    "colab_type": "text",
    "id": "-v0b7C7TY8k_"
   },
   "source": [
    "# 3.3 Basic Charts: Bar Charts, Line Graphs, and Scatter Plots"
   ]
  },
  {
   "cell_type": "markdown",
   "metadata": {
    "colab_type": "text",
    "id": "RQE-miViY8lA"
   },
   "source": [
    "## Line Plots"
   ]
  },
  {
   "cell_type": "markdown",
   "metadata": {
    "colab_type": "text",
    "id": "F_so0XxWY8lA"
   },
   "source": [
    "### Using pandas"
   ]
  },
  {
   "cell_type": "code",
   "execution_count": null,
   "metadata": {
    "colab": {
     "base_uri": "https://localhost:8080/",
     "height": 225
    },
    "colab_type": "code",
    "id": "JUFLM43BY8lB",
    "outputId": "a5aac25e-2440-4841-83b4-048ce1b2cbac"
   },
   "outputs": [],
   "source": [
    "ridership_ts.plot(ylim=[1300, 2300], legend=False, figsize=[5, 3])\n",
    "plt.xlabel('Year')  # set x-axis label\n",
    "plt.ylabel('Ridership (in 000s)')  # set y-axis label\n",
    "\n",
    "# note always needed, but if you run into trouble with parts of the plot area\n",
    "# being cut-off (going outside the drawing area), you'll need to add padding\n",
    "# using tight_layout. I leave it in here for reference, as it really isn't \n",
    "# necessary for this plot. \n",
    "plt.tight_layout() # this adjusts the padding around the figure. See: https://matplotlib.org/api/_as_gen/matplotlib.pyplot.tight_layout.html\n",
    "\n",
    "# NOTE: If we're creating plots inside jupyter notebooks, the plt.show() call is not required\n",
    "# if this were being run from command line or interactive mode (which we do not do in this course)\n",
    "# you need to plot.show() call\n",
    "#plt.show()\n"
   ]
  },
  {
   "cell_type": "markdown",
   "metadata": {
    "colab_type": "text",
    "id": "Lz3UzWegY8lD"
   },
   "source": [
    "### Using matplotlib"
   ]
  },
  {
   "cell_type": "code",
   "execution_count": null,
   "metadata": {
    "colab": {
     "base_uri": "https://localhost:8080/",
     "height": 296
    },
    "colab_type": "code",
    "id": "TMiJwiB3Y8lE",
    "outputId": "315f53b3-0c5f-4a42-d0cb-d9a6bc316e28"
   },
   "outputs": [],
   "source": [
    "# alternative plot with matplotlib\n",
    "plt.plot(ridership_ts.index, ridership_ts)\n",
    "plt.xlabel('Year')  # set x-axis label\n",
    "plt.ylabel('Ridership (in 000s)')  # set y-axis label"
   ]
  },
  {
   "cell_type": "markdown",
   "metadata": {
    "colab_type": "text",
    "id": "sFRb9PDiY8lG"
   },
   "source": [
    "## Scatter plots"
   ]
  },
  {
   "cell_type": "markdown",
   "metadata": {
    "colab_type": "text",
    "id": "Rs1P5bb-Y8lG"
   },
   "source": [
    "### Using pandas"
   ]
  },
  {
   "cell_type": "code",
   "execution_count": null,
   "metadata": {
    "colab": {
     "base_uri": "https://localhost:8080/",
     "height": 296
    },
    "colab_type": "code",
    "id": "1dgnZPbuY8lH",
    "outputId": "eeb43228-f7ed-420d-f835-6697ef9bfb46"
   },
   "outputs": [],
   "source": [
    "\n",
    "housing_df.plot.scatter(x='LSTAT', y='MEDV', legend=False)\n"
   ]
  },
  {
   "cell_type": "markdown",
   "metadata": {
    "colab_type": "text",
    "id": "GEQvi0S2Y8lI"
   },
   "source": [
    "### Using matplotlib"
   ]
  },
  {
   "cell_type": "code",
   "execution_count": null,
   "metadata": {
    "colab": {
     "base_uri": "https://localhost:8080/",
     "height": 242
    },
    "colab_type": "code",
    "id": "1d4f8H_CY8lJ",
    "outputId": "216be8e3-f6ca-4be4-c352-2d12ac7d65c5"
   },
   "outputs": [],
   "source": [
    "# Set the color of the points in the scatterplot and draw as open circles.\n",
    "fig, ax = plt.subplots()\n",
    "fig.set_size_inches(5, 3)\n",
    "\n",
    "ax.scatter(housing_df.LSTAT, housing_df.MEDV, color='C2', facecolor='none') # see 'CN' colors here https://matplotlib.org/2.0.2/users/colors.html\n",
    "plt.xlabel('LSTAT')\n",
    "plt.ylabel('MEDV')\n"
   ]
  },
  {
   "cell_type": "markdown",
   "metadata": {
    "colab_type": "text",
    "id": "76q5t8GqY8lM"
   },
   "source": [
    "## BoxPlots"
   ]
  },
  {
   "cell_type": "markdown",
   "metadata": {
    "colab_type": "text",
    "id": "d57HZH8JY8lM"
   },
   "source": [
    "### Using pandas"
   ]
  },
  {
   "cell_type": "code",
   "execution_count": null,
   "metadata": {
    "colab": {
     "base_uri": "https://localhost:8080/",
     "height": 238
    },
    "colab_type": "code",
    "id": "E_8KlOGqY8lM",
    "outputId": "958cf013-4250-4255-db13-af34ae34387f"
   },
   "outputs": [],
   "source": [
    "ax = housing_df.groupby('CHAS').mean().MEDV.plot(kind='bar', figsize=[5, 3])\n",
    "ax.set_ylabel('Avg. MEDV')\n"
   ]
  },
  {
   "cell_type": "markdown",
   "metadata": {
    "colab_type": "text",
    "id": "QV2btPlrY8lP"
   },
   "source": [
    "### Using matplotlib"
   ]
  },
  {
   "cell_type": "markdown",
   "metadata": {
    "colab_type": "text",
    "id": "l_z7fjRvY8lP"
   },
   "source": [
    "Note: When using matplotlib, we need to group the data before we can plot it using matplot lib. Pandas has the ability to group rows into a summary. For instance, in this case let's group by CHAS, and look at what the mean of MEDV values for each group."
   ]
  },
  {
   "cell_type": "code",
   "execution_count": null,
   "metadata": {
    "colab": {
     "base_uri": "https://localhost:8080/",
     "height": 142
    },
    "colab_type": "code",
    "id": "Wz3qKnQwY8lP",
    "outputId": "09de81ea-ba4b-4e7c-eda8-2644e8ee02f8"
   },
   "outputs": [],
   "source": [
    "dataForPlot = housing_df.groupby('CHAS').mean() # group the data by CHAS and use mean as the summary\n",
    "dataForPlot"
   ]
  },
  {
   "cell_type": "code",
   "execution_count": null,
   "metadata": {
    "colab": {
     "base_uri": "https://localhost:8080/",
     "height": 296
    },
    "colab_type": "code",
    "id": "T29d4VP5Y8lR",
    "outputId": "067f8d5a-2b2d-4fbd-a866-18b79b41634f"
   },
   "outputs": [],
   "source": [
    "\n",
    "\n",
    "fig, ax = plt.subplots()\n",
    "ax.bar(dataForPlot.index, dataForPlot.MEDV, color=['C5', 'C1'])\n",
    "ax.set_xticks([0, 1], minor=False)\n",
    "ax.set_xlabel('CHAS')\n",
    "ax.set_ylabel('Avg. MEDV')\n",
    "\n"
   ]
  },
  {
   "cell_type": "code",
   "execution_count": null,
   "metadata": {
    "colab": {
     "base_uri": "https://localhost:8080/",
     "height": 296
    },
    "colab_type": "code",
    "id": "qqSo3YdUY8lV",
    "outputId": "80043148-25fd-4752-dd70-f283744435ad"
   },
   "outputs": [],
   "source": [
    "fig, ax = plt.subplots()\n",
    "ax.bar(dataForPlot.index, dataForPlot.CAT_MEDV, color=['C5', 'C1'])\n",
    "ax.set_xticks([0, 1], minor=False)\n",
    "ax.set_xlabel('CHAS')\n",
    "ax.set_ylabel('% of CAT.MEDV')\n"
   ]
  },
  {
   "cell_type": "code",
   "execution_count": null,
   "metadata": {
    "colab": {
     "base_uri": "https://localhost:8080/",
     "height": 479
    },
    "colab_type": "code",
    "id": "vUJ3hEufY8lc",
    "outputId": "743987eb-52c2-4f46-ef83-f0c783b9633f"
   },
   "outputs": [],
   "source": [
    "fig = plt.figure(figsize=(12,6)) # this creates a figure - sort of a drawing space to create our plot\n",
    "\n",
    "fig.suptitle(\"Figure1: Ch3 Subplot Example\", multialignment='center', wrap=True, y=1.05)\n",
    "\n",
    "ax1 = fig.add_subplot(121, title=\"Avg. MEDV\") \n",
    "ax1.bar(dataForPlot.index, dataForPlot.MEDV, color=['C5', 'C1'])\n",
    "ax1.set_xticks([0, 1], minor=False)\n",
    "ax1.set_xlabel('CHAS')\n",
    "ax1.set_ylabel('Avg MEDV')\n",
    "\n",
    "ax1 = fig.add_subplot(122, title=\"% of CAT.MEDV\") \n",
    "ax1.bar(dataForPlot.index, dataForPlot.CAT_MEDV, color=['C6', 'C2'])\n",
    "ax1.set_xticks([0, 1], minor=False)\n",
    "ax1.set_xlabel('CHAS')\n",
    "ax1.set_ylabel('% of CAT.MEDV')"
   ]
  },
  {
   "cell_type": "markdown",
   "metadata": {
    "colab_type": "text",
    "id": "m1ZtaQBTY8le"
   },
   "source": [
    "## Histograms"
   ]
  },
  {
   "cell_type": "markdown",
   "metadata": {
    "colab_type": "text",
    "id": "Ekkqna7OY8le"
   },
   "source": [
    "### Figure 3.2\n",
    "Histogram of MEDV"
   ]
  },
  {
   "cell_type": "code",
   "execution_count": null,
   "metadata": {
    "colab": {
     "base_uri": "https://localhost:8080/",
     "height": 0
    },
    "colab_type": "code",
    "id": "BbVAvCHNY8lf",
    "outputId": "b7945866-bf26-475d-8a15-b36229c3e094"
   },
   "outputs": [],
   "source": [
    "ax = housing_df.MEDV.hist()\n",
    "ax.set_xlabel('MEDV')\n",
    "ax.set_ylabel('count')\n",
    "\n",
    "plt.show()"
   ]
  },
  {
   "cell_type": "code",
   "execution_count": null,
   "metadata": {
    "colab": {
     "base_uri": "https://localhost:8080/",
     "height": 0
    },
    "colab_type": "code",
    "id": "f4yvxci6Y8lg",
    "outputId": "06cf465d-b3b0-4d98-a162-5fbe00a4455b"
   },
   "outputs": [],
   "source": [
    "fig, ax = plt.subplots()\n",
    "ax.hist(housing_df.MEDV)\n",
    "ax.set_axisbelow(True)  # Show the grid lines behind the histogram\n",
    "ax.grid(which='major', color='grey', linestyle='--')\n",
    "ax.set_xlabel('MEDV')\n",
    "ax.set_ylabel('count')\n",
    "plt.show()"
   ]
  },
  {
   "cell_type": "markdown",
   "metadata": {
    "colab_type": "text",
    "id": "GcwooAByY8li"
   },
   "source": [
    "## Boxplots"
   ]
  },
  {
   "cell_type": "code",
   "execution_count": null,
   "metadata": {
    "colab": {
     "base_uri": "https://localhost:8080/",
     "height": 295
    },
    "colab_type": "code",
    "id": "wSnEKGfmY8li",
    "outputId": "4f068958-098b-4a26-b003-5027e66b71ce"
   },
   "outputs": [],
   "source": [
    "ax = housing_df.boxplot(column='MEDV', by='CHAS')\n",
    "ax.set_ylabel('MEDV')\n",
    "plt.suptitle('')  # Suppress the titles\n",
    "plt.title('')\n"
   ]
  },
  {
   "cell_type": "code",
   "execution_count": null,
   "metadata": {
    "colab": {
     "base_uri": "https://localhost:8080/",
     "height": 296
    },
    "colab_type": "code",
    "id": "2sAEzHcsY8ll",
    "outputId": "07d48eed-23c2-42c7-f1d0-73a34fd7d5a9"
   },
   "outputs": [],
   "source": [
    "dataForPlot = [list(housing_df[housing_df.CHAS==0].MEDV), list(housing_df[housing_df.CHAS==1].MEDV)]\n",
    "fig, ax = plt.subplots()\n",
    "ax.boxplot(dataForPlot)\n",
    "ax.set_xticks([1, 2], minor=False)\n",
    "ax.set_xticklabels([0, 1])\n",
    "ax.set_xlabel('CHAS')\n",
    "ax.set_ylabel('MEDV')\n"
   ]
  },
  {
   "cell_type": "markdown",
   "metadata": {
    "colab_type": "text",
    "id": "DhdXt1wEY8ln"
   },
   "source": [
    "### Multiple subplots, take 2"
   ]
  },
  {
   "cell_type": "markdown",
   "metadata": {
    "colab_type": "text",
    "id": "58c1Rz4LY8lo"
   },
   "source": [
    "### Figure 3.3\n",
    "\n",
    "There are many ways you can create subplots. We saw a pattern previously when we created the two subplots to hold a scatter plot. Another example is below using nrows and ncols. "
   ]
  },
  {
   "cell_type": "code",
   "execution_count": null,
   "metadata": {
    "colab": {
     "base_uri": "https://localhost:8080/",
     "height": 297
    },
    "colab_type": "code",
    "id": "Hk3pz1sEY8lo",
    "outputId": "2431935c-d123-40d5-fcd6-6716b6ca4287"
   },
   "outputs": [],
   "source": [
    "fig, axes = plt.subplots(nrows=1, ncols=4) # Note that axes is a list ax's,\n",
    "housing_df.boxplot(column='NOX', by='CAT_MEDV', ax=axes[0]) # each boxplot call has the specific ax from the list as an argument.\n",
    "housing_df.boxplot(column='LSTAT', by='CAT_MEDV', ax=axes[1])\n",
    "housing_df.boxplot(column='PTRATIO', by='CAT_MEDV', ax=axes[2])\n",
    "housing_df.boxplot(column='INDUS', by='CAT_MEDV', ax=axes[3])\n",
    "for ax in axes:\n",
    "    ax.set_xlabel('CAT.MEDV')\n",
    "plt.suptitle('')  # Suppress the overall title\n",
    "plt.tight_layout()  # Increase the separation between the plots\n"
   ]
  },
  {
   "cell_type": "markdown",
   "metadata": {
    "colab_type": "text",
    "id": "fjYsnnhSY8lq"
   },
   "source": [
    "## Heatmaps"
   ]
  },
  {
   "cell_type": "markdown",
   "metadata": {
    "colab_type": "text",
    "id": "Iw5S_SSKY8lq"
   },
   "source": [
    "### Figure 3.4"
   ]
  },
  {
   "cell_type": "markdown",
   "metadata": {
    "colab_type": "text",
    "id": "_xE_4tSTb6m5"
   },
   "source": [
    "NOTE: In this section we use Seaborns heatmap functionality. Seaborn in a library that wraps matplotlib and (for the plots it supports) can look more visually appealing and be usier to work with. \n"
   ]
  },
  {
   "cell_type": "code",
   "execution_count": null,
   "metadata": {
    "colab": {
     "base_uri": "https://localhost:8080/",
     "height": 0
    },
    "colab_type": "code",
    "id": "UgJ9ovTZY8lq",
    "outputId": "d8727bef-23ab-473b-b09f-8e51077ac20f"
   },
   "outputs": [],
   "source": [
    "corr = housing_df.corr()\n",
    "sns.heatmap(corr, xticklabels=corr.columns, yticklabels=corr.columns)  # note that we imported seasorn as sns in the intro portion of this notebook"
   ]
  },
  {
   "cell_type": "code",
   "execution_count": null,
   "metadata": {
    "colab": {
     "base_uri": "https://localhost:8080/",
     "height": 0
    },
    "colab_type": "code",
    "id": "jn28kTtBY8ls",
    "outputId": "5a07196f-cfe5-42b3-f6a4-cea6f177af2c"
   },
   "outputs": [],
   "source": [
    "# Change the colormap to a divergent scale and fix the range of the colormap\n",
    "sns.heatmap(corr, xticklabels=corr.columns, yticklabels=corr.columns, vmin=-1, vmax=1, cmap=\"RdBu\")"
   ]
  },
  {
   "cell_type": "code",
   "execution_count": null,
   "metadata": {
    "colab": {
     "base_uri": "https://localhost:8080/",
     "height": 0
    },
    "colab_type": "code",
    "id": "Kzw0fEzlY8lu",
    "outputId": "7d51f035-45cc-4973-e6fc-480ff774b01a"
   },
   "outputs": [],
   "source": [
    "# Include information about values\n",
    "fig, ax = plt.subplots()\n",
    "fig.set_size_inches(11, 7)\n",
    "sns.heatmap(corr, annot=True, fmt=\".1f\", cmap=\"RdBu\", center=0, ax=ax)\n"
   ]
  },
  {
   "cell_type": "markdown",
   "metadata": {
    "colab_type": "text",
    "id": "7faR8yCzY8lw"
   },
   "source": [
    "### Figure 3.5\n",
    "A heatmap can also be used to visualize missing values. Here, we use a sample of the NYPD Motor Vehicle Collisions Dataset. (https://data.cityofnewyork.us/Public-Safety/NYPD-Motor-Vehicle-Collisions/h9gi-nx95)"
   ]
  },
  {
   "cell_type": "code",
   "execution_count": null,
   "metadata": {
    "colab": {},
    "colab_type": "code",
    "id": "7XvNajWRY8lw"
   },
   "outputs": [],
   "source": [
    "# df = pd.read_csv('NYPD_Motor_Vehicle_Collisions.csv')\n",
    "# df = df.sample(1000)\n",
    "# # df.head()\n",
    "# df.to_csv('NYPD_Motor_Vehicle_Collisions_1000.csv', index=False)"
   ]
  },
  {
   "cell_type": "code",
   "execution_count": null,
   "metadata": {
    "colab": {
     "base_uri": "https://localhost:8080/",
     "height": 0
    },
    "colab_type": "code",
    "id": "VqgjvFrbY8lx",
    "outputId": "e91171e9-4113-44c7-e95a-8b791539795b"
   },
   "outputs": [],
   "source": [
    "df = pd.read_csv('https://raw.githubusercontent.com/prof-tcsmith/mis307/master/data/NYPD_Motor_Vehicle_Collisions_1000.csv').sort_values(['DATE'])\n",
    "\n",
    "# Given a dataframe df create a copy of the array that is 0 if a field contains a value \n",
    "# and 1 for NaN\n",
    "naInfo = np.zeros(df.shape)\n",
    "naInfo[df.isna().values] = 1\n",
    "naInfo = pd.DataFrame(naInfo, columns=df.columns)\n",
    "\n",
    "fig, ax = plt.subplots()\n",
    "fig.set_size_inches(13, 9)\n",
    "ax = sns.heatmap(naInfo, vmin=0, vmax=1, cmap=[\"white\", \"#444444\"], cbar=False, ax=ax)\n",
    "ax.set_yticks([])\n",
    "\n",
    "rect = plt.Rectangle((0, 0), naInfo.shape[1], naInfo.shape[0], linewidth=1, \n",
    "                     edgecolor='lightgrey',facecolor='none')\n",
    "rect = ax.add_patch(rect)\n",
    "rect.set_clip_on(False)\n",
    "\n",
    "plt.xticks(rotation=80)\n",
    "plt.tight_layout()\n",
    "plt.show()"
   ]
  },
  {
   "cell_type": "markdown",
   "metadata": {
    "colab_type": "text",
    "id": "PVw9LD6YY8lz"
   },
   "source": [
    "## Multi-Dimensional Visualization"
   ]
  },
  {
   "cell_type": "markdown",
   "metadata": {
    "colab_type": "text",
    "id": "vNxKwsytY8l0"
   },
   "source": [
    "### Figure 3.6"
   ]
  },
  {
   "cell_type": "code",
   "execution_count": null,
   "metadata": {
    "colab": {
     "base_uri": "https://localhost:8080/",
     "height": 296
    },
    "colab_type": "code",
    "id": "ObGSxlLkY8l0",
    "outputId": "583cf9c9-3c03-4fba-e424-8375bb2074e9"
   },
   "outputs": [],
   "source": [
    "# Color the points by the value of CAT.MEDV\n",
    "housing_df.plot.scatter(x='LSTAT', y='NOX', c=['C0' if c == 1 else 'C1' for c in housing_df.CAT_MEDV])"
   ]
  },
  {
   "cell_type": "code",
   "execution_count": null,
   "metadata": {
    "colab": {
     "base_uri": "https://localhost:8080/",
     "height": 296
    },
    "colab_type": "code",
    "id": "4A8z08YgY8l2",
    "outputId": "434085da-2392-450a-c1fc-1344927235cf"
   },
   "outputs": [],
   "source": [
    "# Change the rendering of the points to open circles by controlling the color\n",
    "housing_df.plot.scatter(x='LSTAT', y='NOX', color='none',\n",
    "                        edgecolor=['C0' if c == 1 else 'C1' for c in housing_df.CAT_MEDV])"
   ]
  },
  {
   "cell_type": "markdown",
   "metadata": {
    "colab_type": "text",
    "id": "SgYO5mNiY8l4"
   },
   "source": [
    "If the data points for `CAT_MEDV` of 1 should be emphasized, it's useful to draw them separately."
   ]
  },
  {
   "cell_type": "code",
   "execution_count": null,
   "metadata": {
    "colab": {
     "base_uri": "https://localhost:8080/",
     "height": 279
    },
    "colab_type": "code",
    "id": "eShEIJzZY8l4",
    "outputId": "8552ddf1-22f1-45af-d831-f497edcdc3aa"
   },
   "outputs": [],
   "source": [
    "# Plot first the data points for CAT.MEDV of 0 and then of 1\n",
    "_, ax = plt.subplots()\n",
    "for catValue, color in (0, 'C1'), (1, 'C0'):\n",
    "    subset_df = housing_df[housing_df.CAT_MEDV == catValue]\n",
    "    ax.scatter(subset_df.LSTAT, subset_df.NOX, color='none', edgecolor=color)\n",
    "ax.set_xlabel('LSTAT')\n",
    "ax.set_ylabel('NOX')\n",
    "ax.legend([\"CAT.MEDV 0\", \"CAT.MEDV 1\"])\n",
    "\n",
    "plt.show()"
   ]
  },
  {
   "cell_type": "markdown",
   "metadata": {
    "colab_type": "text",
    "id": "kh7pUykKY8l6"
   },
   "source": [
    "### Panel plots\n",
    "\n",
    "Compute mean MEDV per RAD and CHAS and create two bar charts for each value of RAD"
   ]
  },
  {
   "cell_type": "code",
   "execution_count": null,
   "metadata": {
    "colab": {
     "base_uri": "https://localhost:8080/",
     "height": 282
    },
    "colab_type": "code",
    "id": "n7gtEn5yY8l6",
    "outputId": "81e11186-afab-42fa-a777-ecb773a7dd7c"
   },
   "outputs": [],
   "source": [
    "dataForPlot_df = housing_df.groupby(['CHAS','RAD']).mean()['MEDV']\n",
    "# We determine all possible RAD values to use as ticks\n",
    "ticks = set(housing_df.RAD)\n",
    "for i in range(2):\n",
    "    for t in ticks.difference(dataForPlot_df[i].index):\n",
    "        dataForPlot_df.loc[(i, t)] = 0\n",
    "# reorder to rows, so that the index is sorted\n",
    "dataForPlot_df = dataForPlot_df[sorted(dataForPlot_df.index)]\n",
    "\n",
    "# Determine a common range for the y axis\n",
    "yRange = [0, max(dataForPlot_df) * 1.1] \n",
    "\n",
    "fig, axes = plt.subplots(nrows=2, ncols=1)\n",
    "dataForPlot_df[0].plot.bar(x='RAD', ax=axes[0], ylim=yRange)\n",
    "dataForPlot_df[1].plot.bar(x='RAD', ax=axes[1], ylim=yRange)\n",
    "axes[0].annotate('CHAS = 0', xy=(3.5, 45))\n",
    "axes[1].annotate('CHAS = 1', xy=(3.5, 45))\n",
    "\n",
    "plt.show()"
   ]
  },
  {
   "cell_type": "markdown",
   "metadata": {
    "colab_type": "text",
    "id": "XidLkag2Y8l8"
   },
   "source": [
    "### Figure 3.7\n",
    "Scatterplot matrix"
   ]
  },
  {
   "cell_type": "code",
   "execution_count": null,
   "metadata": {
    "colab": {
     "base_uri": "https://localhost:8080/",
     "height": 388
    },
    "colab_type": "code",
    "id": "n9_DL35NY8l9",
    "outputId": "a47460cc-6d01-422a-a943-07bf8bb85dd5"
   },
   "outputs": [],
   "source": [
    "# Add the correlation coefficient to the scatterplots above the diagonal\n",
    "df = housing_df[['CRIM', 'INDUS', 'LSTAT', 'MEDV']]\n",
    "axes = df.plotting.scatter_matrix(df[['CRIM', 'INDUS', 'LSTAT', 'MEDV']], alpha=0.5, figsize=(6, 6), diagonal='kde')\n",
    "corr = df.corr().values\n",
    "for i, j in zip(*plt.np.triu_indices_from(axes, k=1)):\n",
    "    axes[i, j].annotate(\"%.3f\" %corr[i,j], (0.8, 0.8), xycoords='axes fraction', ha='center', va='center')\n",
    "\n",
    "plt.show()"
   ]
  },
  {
   "cell_type": "markdown",
   "metadata": {
    "colab_type": "text",
    "id": "q6T23zNEY8l_"
   },
   "source": [
    "### Figure 3.8"
   ]
  },
  {
   "cell_type": "code",
   "execution_count": null,
   "metadata": {
    "colab": {
     "base_uri": "https://localhost:8080/",
     "height": 225
    },
    "colab_type": "code",
    "id": "pC6g7o-MY8l_",
    "outputId": "ff7a9dda-0e61-4960-d2b5-b5722dc1fe12"
   },
   "outputs": [],
   "source": [
    "# Avoid the use of scientific notation for the log axis\n",
    "plt.rcParams['axes.formatter.min_exponent'] = 4\n",
    "\n",
    "fig, axes = plt.subplots(nrows=1, ncols=2, figsize=(7, 3))\n",
    "\n",
    "# Regular scale\n",
    "housing_df.plot.scatter(x='CRIM', y='MEDV', ax=axes[0])\n",
    "# log scale\n",
    "ax = housing_df.plot.scatter(x='CRIM', y='MEDV', logx=True, logy=True, ax=axes[1])\n",
    "ax.set_yticks([5, 10, 20, 50])\n",
    "ax.set_yticklabels([5, 10, 20, 50])\n",
    "plt.tight_layout()\n",
    "\n",
    "plt.show()"
   ]
  },
  {
   "cell_type": "code",
   "execution_count": null,
   "metadata": {
    "colab": {
     "base_uri": "https://localhost:8080/",
     "height": 225
    },
    "colab_type": "code",
    "id": "Y3F5Dna6Y8mB",
    "outputId": "448d3964-4d85-4ee6-ffb4-300e2794ac44"
   },
   "outputs": [],
   "source": [
    "fig, axes = plt.subplots(nrows=1, ncols=2, figsize=(7, 3))\n",
    "\n",
    "# regular scale\n",
    "ax = housing_df.boxplot(column='CRIM', by='CAT_MEDV', ax=axes[0])\n",
    "ax.set_xlabel('CAT.MEDV')\n",
    "ax.set_ylabel('CRIM')\n",
    "\n",
    "# log scale\n",
    "ax = housing_df.boxplot(column='CRIM', by='CAT_MEDV', ax=axes[1])\n",
    "ax.set_xlabel('CAT.MEDV')\n",
    "ax.set_ylabel('CRIM')\n",
    "ax.set_yscale('log')\n",
    "\n",
    "# suppress the title\n",
    "axes[0].get_figure().suptitle('')\n",
    "plt.tight_layout()\n",
    "\n",
    "plt.show()"
   ]
  },
  {
   "cell_type": "markdown",
   "metadata": {
    "colab_type": "text",
    "id": "pGdhay4aY8mD"
   },
   "source": [
    "### Figure 3.10"
   ]
  },
  {
   "cell_type": "code",
   "execution_count": null,
   "metadata": {
    "colab": {
     "base_uri": "https://localhost:8080/",
     "height": 391
    },
    "colab_type": "code",
    "id": "NRtYCYtFY8mD",
    "outputId": "d7dca22d-0ab1-4e38-e8b7-4dcf66251d0e"
   },
   "outputs": [],
   "source": [
    "utilities_df = pd.read_csv('https://raw.githubusercontent.com/prof-tcsmith/mis307/master/data/Utilities.csv')\n",
    "\n",
    "ax = utilities_df.plot.scatter(x='Sales', y='Fuel_Cost', figsize=(6, 6))\n",
    "points = utilities_df[['Sales','Fuel_Cost','Company']]\n",
    "_ = points.apply(lambda x: \n",
    "             ax.text(*x, rotation=20, horizontalalignment='left',\n",
    "                     verticalalignment='bottom', fontsize=8), axis=1)\n",
    "\n",
    "plt.show()"
   ]
  },
  {
   "cell_type": "markdown",
   "metadata": {
    "colab_type": "text",
    "id": "PeviwDBTY8mG"
   },
   "source": [
    "### Figure 3.11\n",
    "Use `alpha` to add transparent colors "
   ]
  },
  {
   "cell_type": "code",
   "execution_count": null,
   "metadata": {
    "colab": {
     "base_uri": "https://localhost:8080/",
     "height": 303
    },
    "colab_type": "code",
    "id": "XD3ZjKzzY8mG",
    "outputId": "397cc7ce-9dcb-453d-9640-98693e9fe1eb"
   },
   "outputs": [],
   "source": [
    "universal_df = pd.read_csv('https://raw.githubusercontent.com/prof-tcsmith/mis307/master/data/UniversalBank.csv')\n",
    "\n",
    "universal_df.plot.scatter(x='Income', y='CCAvg', \n",
    "                          c=['black' if c == 1 else 'grey' for c in universal_df['Securities Account']],\n",
    "                          ylim = (0.05, 10), alpha=0.2,\n",
    "                          logx=True, logy=True)\n"
   ]
  },
  {
   "cell_type": "markdown",
   "metadata": {
    "colab_type": "text",
    "id": "rdLQlOAFY8mJ"
   },
   "source": [
    "The pandas plot pandas has a number of problems that can be solved using matplotlib \n",
    "\n",
    "- overlapping points: add random jitter to the datapoints\n",
    "- distribution of securities account less obvious due to overplotting: separate plotting of the two sets of accounts"
   ]
  },
  {
   "cell_type": "code",
   "execution_count": null,
   "metadata": {
    "colab": {
     "base_uri": "https://localhost:8080/",
     "height": 390
    },
    "colab_type": "code",
    "id": "mmS-Y3HfY8mK",
    "outputId": "3ed5db24-07c9-4633-9232-ed1692dc35bf"
   },
   "outputs": [],
   "source": [
    "def jitter(x, factor=1):\n",
    "    \"\"\" Add random jitter to x values \"\"\"\n",
    "    sx = np.array(sorted(x))\n",
    "    delta = sx[1:] - sx[:-1]\n",
    "    minDelta = min(d for d in delta if d > 0)\n",
    "    a = factor * minDelta / 5\n",
    "    return x + np.random.uniform(-a, a, len(x))\n",
    "    \n",
    "    \n",
    "saIdx = universal_df[universal_df['Securities Account'] == 1].index\n",
    "\n",
    "plt.figure(figsize=(10,6))\n",
    "plt.scatter(jitter(universal_df.drop(saIdx).Income),\n",
    "            jitter(universal_df.drop(saIdx).CCAvg),\n",
    "            marker='o', color='grey', alpha=0.2)\n",
    "plt.scatter(jitter(universal_df.loc[saIdx].Income),\n",
    "            jitter(universal_df.loc[saIdx].CCAvg), \n",
    "            marker='o', color='red', alpha=0.2)\n",
    "plt.xlabel('Income')\n",
    "plt.ylabel('CCAvg')\n",
    "plt.ylim((0.05, 20))\n",
    "axes = plt.gca()\n",
    "axes.set_xscale(\"log\")\n",
    "axes.set_yscale(\"log\")\n",
    "\n",
    "plt.show()"
   ]
  },
  {
   "cell_type": "markdown",
   "metadata": {
    "colab_type": "text",
    "id": "W6yNIVhTY8mN"
   },
   "source": [
    "### Figure 3.12"
   ]
  },
  {
   "cell_type": "code",
   "execution_count": null,
   "metadata": {
    "colab": {
     "base_uri": "https://localhost:8080/",
     "height": 441
    },
    "colab_type": "code",
    "id": "HVH6dKKJY8mN",
    "outputId": "f05d905f-0d58-4a5d-9f29-c43eae6e4c01"
   },
   "outputs": [],
   "source": [
    "# Transform the axes, so that they all have the same range\n",
    "min_max_scaler = preprocessing.MinMaxScaler()\n",
    "dataToPlot = pd.DataFrame(min_max_scaler.fit_transform(housing_df),\n",
    "                         columns=housing_df.columns)\n",
    "\n",
    "fig, axes = plt.subplots(nrows=2, ncols=1, figsize=[8, 6])\n",
    "for i in (0, 1):\n",
    "    parallel_coordinates(dataToPlot.loc[dataToPlot.CAT_MEDV == i], \n",
    "                         'CAT_MEDV', ax=axes[i], linewidth=0.5)\n",
    "    axes[i].set_title('CAT.MEDV = {}'.format(i))\n",
    "    axes[i].set_yticklabels([])\n",
    "    axes[i].legend().set_visible(False)\n",
    "\n",
    "plt.tight_layout()  # Increase the separation between the plots\n",
    "\n",
    "plt.show()"
   ]
  },
  {
   "cell_type": "markdown",
   "metadata": {
    "colab_type": "text",
    "id": "l6uG80AfY8mS"
   },
   "source": [
    "### Figure 3.14"
   ]
  },
  {
   "cell_type": "code",
   "execution_count": null,
   "metadata": {
    "colab": {
     "base_uri": "https://localhost:8080/",
     "height": 575
    },
    "colab_type": "code",
    "id": "VrLBrt9RY8mS",
    "outputId": "99a638af-625b-4d48-d03e-f14afcc8b562"
   },
   "outputs": [],
   "source": [
    "ebay_df = pd.read_csv('https://raw.githubusercontent.com/prof-tcsmith/mis307/master/data/eBayNetwork.csv')\n",
    "\n",
    "G = nx.from_pandas_edgelist(ebay_df, source='Seller', target='Bidder')\n",
    "\n",
    "isBidder = [n in set(ebay_df.Bidder) for n in G.nodes()]\n",
    "pos = nx.spring_layout(G, k=0.13, iterations=60, scale=0.5)\n",
    "plt.figure(figsize=(10,10))\n",
    "nx.draw_networkx(G, pos=pos, with_labels=False,\n",
    "                 edge_color='lightgray',\n",
    "                 node_color=['gray' if bidder else 'black' for bidder in isBidder],\n",
    "                 node_size=[50 if bidder else 200 for bidder in isBidder])\n",
    "plt.axis('off')\n",
    "\n",
    "plt.show()"
   ]
  },
  {
   "cell_type": "markdown",
   "metadata": {
    "colab_type": "text",
    "id": "Jf5dIlg7Y8mV"
   },
   "source": [
    "### Figure 3.15\n"
   ]
  },
  {
   "cell_type": "markdown",
   "metadata": {
    "colab_type": "text",
    "id": "CijE1K92Y8mV"
   },
   "source": [
    "Use example from here: https://python-graph-gallery.com/treemap/"
   ]
  },
  {
   "cell_type": "code",
   "execution_count": null,
   "metadata": {
    "colab": {
     "base_uri": "https://localhost:8080/",
     "height": 34
    },
    "colab_type": "code",
    "id": "qIkGW2VFZfoy",
    "outputId": "e8ade8cb-0ddd-43c4-cba5-2d5073577b3d"
   },
   "outputs": [],
   "source": [
    "!pip install squarify"
   ]
  },
  {
   "cell_type": "code",
   "execution_count": null,
   "metadata": {
    "colab": {
     "base_uri": "https://localhost:8080/",
     "height": 306
    },
    "colab_type": "code",
    "id": "cN03D_DfY8mV",
    "outputId": "5214db8f-fe4c-44e2-a19d-3cdf4eea7c0c"
   },
   "outputs": [],
   "source": [
    "import squarify\n",
    "import matplotlib\n",
    "\n",
    "ebayTreemap = pd.read_csv('https://raw.githubusercontent.com/prof-tcsmith/mis307/master/data/EbayTreemap.csv')\n",
    "\n",
    "grouped = []\n",
    "for category, df in ebayTreemap.groupby(['Category']):\n",
    "    negativeFeedback = sum(df['Seller Feedback'] < 0) / len(df)\n",
    "    grouped.append({\n",
    "        'category': category, \n",
    "        'negativeFeedback': negativeFeedback, \n",
    "        'averageBid': df['High Bid'].mean()\n",
    "    })\n",
    "byCategory = pd.DataFrame(grouped)\n",
    "\n",
    "norm = matplotlib.colors.Normalize(vmin=byCategory.negativeFeedback.min(), vmax=byCategory.negativeFeedback.max())\n",
    "colors = [matplotlib.cm.Blues(norm(value)) for value in byCategory.negativeFeedback]\n",
    "\n",
    "fig, ax = plt.subplots()\n",
    "fig.set_size_inches(9, 5)\n",
    "\n",
    "squarify.plot(label=byCategory.category, sizes=byCategory.averageBid, color=colors, \n",
    "              ax=ax, alpha=0.6, edgecolor='grey')\n",
    "\n",
    "ax.get_xaxis().set_ticks([])\n",
    "ax.get_yaxis().set_ticks([])\n",
    "\n",
    "plt.subplots_adjust(left=0.1)\n",
    "plt.show()"
   ]
  },
  {
   "cell_type": "markdown",
   "metadata": {
    "colab_type": "text",
    "id": "HeKz--SXY8mX"
   },
   "source": [
    "### Figure 3.16\n",
    "\n",
    "OPTIONAL!!\n",
    "\n",
    "Google Maps Platform is a now a paid service. You can get a trial from them, get an API keyk, and try the code below. \n",
    "\n",
    "To run this example you need an API key for Google maps. \n",
    "\n",
    "https://developers.google.com/maps/documentation/geolocation/get-api-key\n"
   ]
  },
  {
   "cell_type": "code",
   "execution_count": null,
   "metadata": {},
   "outputs": [],
   "source": [
    "!pip install gmaps"
   ]
  },
  {
   "cell_type": "code",
   "execution_count": null,
   "metadata": {
    "colab": {
     "base_uri": "https://localhost:8080/",
     "height": 367
    },
    "colab_type": "code",
    "id": "D8oYsnedY8mY",
    "outputId": "707d3c33-9391-4e45-fc2a-804d7f62871c"
   },
   "outputs": [],
   "source": [
    "import gmaps\n",
    "SCstudents = pd.read_csv('https://raw.githubusercontent.com/prof-tcsmith/mis307/master/data/SC-US-students-GPS-data-2016.csv')\n",
    "\n",
    "gmaps.configure(api_key=os.environ['it will look something like this -> BIzaSyBgXa9Vp9yugdP6tMruM9CsFcMvvcO1yr0'])\n",
    "fig = gmaps.figure(center=(39.7, -105), zoom_level=3)\n",
    "fig.add_layer(gmaps.symbol_layer(SCstudents, scale=2, \n",
    "                                 fill_color='red', stroke_color='red'))\n",
    "fig"
   ]
  }
 ],
 "metadata": {
  "colab": {
   "include_colab_link": true,
   "name": "Class03_Data_visualization.ipynb",
   "provenance": []
  },
  "kernelspec": {
   "display_name": "Python 3 (ipykernel)",
   "language": "python",
   "name": "python3"
  },
  "language_info": {
   "codemirror_mode": {
    "name": "ipython",
    "version": 3
   },
   "file_extension": ".py",
   "mimetype": "text/x-python",
   "name": "python",
   "nbconvert_exporter": "python",
   "pygments_lexer": "ipython3",
   "version": "3.9.12"
  }
 },
 "nbformat": 4,
 "nbformat_minor": 4
}
